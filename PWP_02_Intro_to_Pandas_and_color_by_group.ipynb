{
  "nbformat": 4,
  "nbformat_minor": 0,
  "metadata": {
    "colab": {
      "name": "PWP_02_Intro to Pandas and color by group.ipynb",
      "provenance": [],
      "authorship_tag": "ABX9TyN3bxvVplYw24cgATIx3sZG",
      "include_colab_link": true
    },
    "kernelspec": {
      "name": "python3",
      "display_name": "Python 3"
    },
    "language_info": {
      "name": "python"
    }
  },
  "cells": [
    {
      "cell_type": "markdown",
      "metadata": {
        "id": "view-in-github",
        "colab_type": "text"
      },
      "source": [
        "<a href=\"https://colab.research.google.com/github/PaleoLipidRR/plotting-with-python-intro/blob/main/PWP_02_Intro_to_Pandas_and_color_by_group.ipynb\" target=\"_parent\"><img src=\"https://colab.research.google.com/assets/colab-badge.svg\" alt=\"Open In Colab\"/></a>"
      ]
    },
    {
      "cell_type": "markdown",
      "metadata": {
        "id": "Pm9CvSHt9SpT"
      },
      "source": [
        "**Introduction to Python Visualization (version 1.0)**\n",
        "Notebook #2: Intro to pandas and colorby group using groupby()\n",
        "\n",
        "By Ronnakrit \"Ronnie\" Rattanasriampaipong  \n",
        "Graduate student, Department of Oceanography, TAMU\n",
        "\n",
        "Created date: 11/12/2021  \n",
        "Last update: 11/12/2021\n",
        "\n",
        "---\n"
      ]
    },
    {
      "cell_type": "markdown",
      "metadata": {
        "id": "yXZgUfma9SpX"
      },
      "source": [
        "**This document is created to introduce how to plot data using python. This document will not cover basic elements for python 3 programming languages.**\n",
        "\n",
        "Generally,the `matplotlib` is the most popular python library that people use to plot graphs, charts, and so on. Here, I will use `ProPlot`\" as a wrapper package of the matplotlib for plotting subplots with less repetitive and more readable codes. More information about ProPlot can be found here: https://proplot.readthedocs.io/en/v0.2.3/index.html\n",
        "\n",
        "In this document, I will not cover basic codings on python 3. So, I would recommend you to get familiar with all the basics. The `stackoverflow` forum is a platform that you can find solutions for almost everything. What you are struggling with, there is a high chance that others do struggle with too.\n",
        "\n",
        "Krittanon \"Pond\" Sirorattanakul, a graduate student at Caltech, has put together a good introductory about how to code in Python 3. Feel free to check his tutorial notebook on his GitHub: https://github.com/seismopond/python_intro\n",
        "\n",
        "---"
      ]
    }
  ]
}