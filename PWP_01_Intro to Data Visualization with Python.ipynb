{
  "nbformat": 4,
  "nbformat_minor": 0,
  "metadata": {
    "kernelspec": {
      "display_name": "Python 3",
      "language": "python",
      "name": "python3"
    },
    "language_info": {
      "codemirror_mode": {
        "name": "ipython",
        "version": 3
      },
      "file_extension": ".py",
      "mimetype": "text/x-python",
      "name": "python",
      "nbconvert_exporter": "python",
      "pygments_lexer": "ipython3",
      "version": "3.8.3"
    },
    "colab": {
      "name": "Python visualization_RR_v1.0.ipynb",
      "provenance": [],
      "toc_visible": true,
      "include_colab_link": true
    }
  },
  "cells": [
    {
      "cell_type": "markdown",
      "metadata": {
        "id": "view-in-github",
        "colab_type": "text"
      },
      "source": [
        "<a href=\"https://colab.research.google.com/github/PaleoLipidRR/plotting-with-python-intro/blob/main/PWP_01_Intro%20to%20Data%20Visualization%20with%20Python.ipynb\" target=\"_parent\"><img src=\"https://colab.research.google.com/assets/colab-badge.svg\" alt=\"Open In Colab\"/></a>"
      ]
    },
    {
      "cell_type": "markdown",
      "metadata": {
        "id": "Pm9CvSHt9SpT"
      },
      "source": [
        "**Introduction to Python Visualization (version 1.0)**\n",
        "\n",
        "By Ronnakrit \"Ronnie\" Rattanasriampaipong  \n",
        "Graduate student, Department of Oceanography, TAMU\n",
        "\n",
        "Created date: 3/22/2021  \n",
        "Last update: 11/6/2021\n",
        "\n",
        "---\n"
      ]
    },
    {
      "cell_type": "markdown",
      "metadata": {
        "id": "yXZgUfma9SpX"
      },
      "source": [
        "**This document is created to introduce how to plot data using python. This document will not cover basic elements for python 3 programming languages.**\n",
        "\n",
        "Generally,the `matplotlib` is the most popular python library that people use to plot graphs, charts, and so on. Here, I will use `ProPlot`\" as a wrapper package of the matplotlib for plotting subplots with less repetitive and more readable codes. More information about ProPlot can be found here: https://proplot.readthedocs.io/en/v0.2.3/index.html\n",
        "\n",
        "In this document, I will not cover basic codings on python 3. So, I would recommend you to get familiar with all the basics. The `stackoverflow` forum is a platform that you can find solutions for almost everything. What you are struggling with, there is a high chance that others do struggle with too.\n",
        "\n",
        "Krittanon \"Pond\" Sirorattanakul, a graduate student at Caltech, has put together a good introductory about how to code in Python 3. Feel free to check his tutorial notebook on his GitHub: https://github.com/seismopond/python_intro\n",
        "\n",
        "---"
      ]
    },
    {
      "cell_type": "markdown",
      "metadata": {
        "id": "-mZyOv1t9SpY"
      },
      "source": [
        "# **Before we start, let see if you know how to run the codes/scripts in Jupyter notebook**\n",
        "---\n",
        "\n",
        "Let's do the classic \"Hello World\" example but with \"Hello cute GDGTs\" instead.  `print()` is a function you wanted to used here.\\\n",
        "Just put \"Hello cute GDGTs\" inside the bracket.\n",
        "\n",
        "1) Select the cell that you would like to run the codes  \n",
        "2) Run the codes. You run the cell in a couple different ways. Here are three common ways:  \n",
        "    &nbsp;&nbsp;&nbsp;&nbsp;2.1) Select the cell (using a mouse), then click \"Run\" button  \n",
        "    &nbsp;&nbsp;&nbsp;&nbsp;2.2) Select the cell, then go to \"Cell\" and \"Run Cells\"  \n",
        "    &nbsp;&nbsp;&nbsp;&nbsp;2.3) Keyboard shortcut: Ctrl + Enter (Windows) or Cmd + Return (MacOS)  \n",
        "3) Create new cells to seperate the codes. This is again a personal preference whether you want to write codes in one cell or to chunk it into smaller multiple sections. Here are three common ways:  \n",
        "    &nbsp;&nbsp;&nbsp;&nbsp;3.1) Click \"+\" button -- the new cell will be created below your current cell  \n",
        "    &nbsp;&nbsp;&nbsp;&nbsp;3.2) Click \"Insert\" and choose either \"Insert Cell Above\" or \"Insert Cell Below\"  \n",
        "    &nbsp;&nbsp;&nbsp;&nbsp;3.1) Keyboard shortcut: Press \"A\" for \"Insert Cell Above\"// Press \"B\" for \"Insert Cell Below\"        "
      ]
    },
    {
      "cell_type": "code",
      "metadata": {
        "id": "0R7M-0Xn9SpZ",
        "colab": {
          "base_uri": "https://localhost:8080/"
        },
        "outputId": "995f9828-92e8-440e-f097-3f271472d502"
      },
      "source": [
        "print(\"Hello cute GDGTs\")"
      ],
      "execution_count": 6,
      "outputs": [
        {
          "output_type": "stream",
          "name": "stdout",
          "text": [
            "Hello cute GDGTs\n"
          ]
        }
      ]
    },
    {
      "cell_type": "markdown",
      "metadata": {
        "id": "nkLD7KHs9Spb"
      },
      "source": [
        "# **Now, we need to import basic python libraries**\n",
        "Here is a list of basic libraries required for generating plots using python:\n",
        "\n",
        "(A) Data science\n",
        "--\n",
        "- `numpy` - NumPy (Numerical Python) is a perfect tool for scientific computing and performing basic and advanced array operations. More information: https://numpy.org/\n",
        "- `scipy` - This useful library includes modules for linear algebra, integration, optimization, and statistics. Its main functionality was built upon NumPy, so its arrays make use of this library. More information: https://scipy.org/\n",
        "- `pandas` - Pandas is a library created to help developers work with \"labeled\" and \"relational\" data intuitively. It's based on two main data structures: \"Series\" (one-dimensional, like a list of items) and \"Data Frames\" (two-dimensional, like a table with multiple columns). Pandas allows converting data structures to DataFrame objects, handling missing data, and adding/deleting columns from DataFrame, imputing missing files, and plotting data with histogram or plot box. It’s a must-have for data wrangling, manipulation, and visualization. More information: https://pandas.pydata.org/\n",
        "- `xarray` -- this package will be used for net4cdf and similar file types. More information: http://xarray.pydata.org/en/stable/\n",
        "\n",
        "\n",
        "(B) Visualization\n",
        "--\n",
        "- `Matplotlib` (required) - This is a standard data science library that helps to generate data visualizations such as two-dimensional diagrams and graphs (histograms, scatterplots, non-Cartesian coordinates graphs). More information: https://matplotlib.org/\n",
        "- `ProPlot` (optional) - This is my personal favorite package when it comes to generate subplots. This is a wrapper for the Matplotlib that makes subplotting more efficient with fewer lines. More information: https://proplot.readthedocs.io/en/v0.2.3/index.html\n",
        "- `Seaborn` (optional) - Seaborn is a Python data visualization library based on matplotlib. It provides a high-level interface for drawing attractive and informative statistical graphics. More inforamtion: https://seaborn.pydata.org/\n",
        "- `Cartopy` - Cartopy is a Python package designed for geospatial data processing in order to produce maps and other geospatial data analyses. More inforamtion: https://scitools.org.uk/cartopy/docs/latest/\n",
        "\n",
        "---"
      ]
    },
    {
      "cell_type": "markdown",
      "metadata": {
        "id": "pgicjVn89Spc"
      },
      "source": [
        "# **Python packages/libraries installation**\n",
        "Here is how to import python libraries/packages:  \n",
        "(You can import everything at the beginning or import them later when you wanted to use a specific package. My preference is to put all the packages I used in the same cell at the beginning). \n",
        "\n",
        "- start the line with \"import\"  \n",
        "- then space bar and put the name of the package\n",
        "- then space bar and put \"as\"\n",
        "- after \"as\", put a module name as you like. But the following shows the conventional name that people use for these basic libraries"
      ]
    },
    {
      "cell_type": "markdown",
      "metadata": {
        "id": "tQ4ROymKB52r"
      },
      "source": [
        "## Install packages that are not default to google colab\n",
        "Please uncomment and run the cell below if you use this Jupyter Notebook from Google Colab"
      ]
    },
    {
      "cell_type": "code",
      "metadata": {
        "id": "Bo4c2nAmBtRA"
      },
      "source": [
        "\n",
        "### %%capture is a command to suppress cell's outputs. So, please do not worry if you don't see anything coming out after running the cell. I just don't want to let the installations overwhelming your screen.\n",
        "%%capture\n",
        "!apt-get install libproj-dev proj-data proj-bin\n",
        "!apt-get install libgeos-dev\n",
        "%pip install cartopy\n",
        "!apt-get -qq install python-cartopy python3-cartopy\n",
        "%pip uninstall -y shapely    # cartopy and shapely aren't friends (early 2020)\n",
        "%pip install shapely --no-binary shapely\n",
        "%pip install proplot \n",
        "%pip install pyrolite  ### This is to install libraries that are not available in Google Colab"
      ],
      "execution_count": 7,
      "outputs": []
    },
    {
      "cell_type": "markdown",
      "metadata": {
        "id": "yRtsohlMCRGt"
      },
      "source": [
        "## Import packages/libraries to be used"
      ]
    },
    {
      "cell_type": "code",
      "metadata": {
        "id": "Sj7S2iUf9Spd"
      },
      "source": [
        "import numpy as np\n",
        "import scipy as scipy\n",
        "import pandas as pd\n",
        "import xarray as xr\n",
        "\n",
        "import matplotlib.pyplot as plt\n",
        "import proplot as plot"
      ],
      "execution_count": 8,
      "outputs": []
    },
    {
      "cell_type": "markdown",
      "metadata": {
        "id": "eerDrszzsjnH"
      },
      "source": [
        "### Mount google drive\n",
        "1.1 Mounting your google drive with Google colab so that you can read files directly from the google drive"
      ]
    },
    {
      "cell_type": "code",
      "metadata": {
        "colab": {
          "base_uri": "https://localhost:8080/",
          "height": 347
        },
        "id": "jWGss5VNsfAy",
        "outputId": "6f11a3d4-b914-4392-c8d6-2c8a590c3572"
      },
      "source": [
        "# Mounting your google drive\n",
        "from google.colab import drive\n",
        "\n",
        "ROOT = \"/content/drive\"\n",
        "drive.mount(ROOT,force_remount=True)"
      ],
      "execution_count": 11,
      "outputs": [
        {
          "output_type": "error",
          "ename": "MessageError",
          "evalue": "ignored",
          "traceback": [
            "\u001b[0;31m---------------------------------------------------------------------------\u001b[0m",
            "\u001b[0;31mMessageError\u001b[0m                              Traceback (most recent call last)",
            "\u001b[0;32m<ipython-input-11-cbeca100eb6c>\u001b[0m in \u001b[0;36m<module>\u001b[0;34m()\u001b[0m\n\u001b[1;32m      3\u001b[0m \u001b[0;34m\u001b[0m\u001b[0m\n\u001b[1;32m      4\u001b[0m \u001b[0mROOT\u001b[0m \u001b[0;34m=\u001b[0m \u001b[0;34m\"/content/drive\"\u001b[0m\u001b[0;34m\u001b[0m\u001b[0;34m\u001b[0m\u001b[0m\n\u001b[0;32m----> 5\u001b[0;31m \u001b[0mdrive\u001b[0m\u001b[0;34m.\u001b[0m\u001b[0mmount\u001b[0m\u001b[0;34m(\u001b[0m\u001b[0mROOT\u001b[0m\u001b[0;34m,\u001b[0m\u001b[0mforce_remount\u001b[0m\u001b[0;34m=\u001b[0m\u001b[0;32mTrue\u001b[0m\u001b[0;34m)\u001b[0m\u001b[0;34m\u001b[0m\u001b[0;34m\u001b[0m\u001b[0m\n\u001b[0m",
            "\u001b[0;32m/usr/local/lib/python3.7/dist-packages/google/colab/drive.py\u001b[0m in \u001b[0;36mmount\u001b[0;34m(mountpoint, force_remount, timeout_ms, use_metadata_server)\u001b[0m\n\u001b[1;32m    111\u001b[0m       \u001b[0mtimeout_ms\u001b[0m\u001b[0;34m=\u001b[0m\u001b[0mtimeout_ms\u001b[0m\u001b[0;34m,\u001b[0m\u001b[0;34m\u001b[0m\u001b[0;34m\u001b[0m\u001b[0m\n\u001b[1;32m    112\u001b[0m       \u001b[0muse_metadata_server\u001b[0m\u001b[0;34m=\u001b[0m\u001b[0muse_metadata_server\u001b[0m\u001b[0;34m,\u001b[0m\u001b[0;34m\u001b[0m\u001b[0;34m\u001b[0m\u001b[0m\n\u001b[0;32m--> 113\u001b[0;31m       ephemeral=ephemeral)\n\u001b[0m\u001b[1;32m    114\u001b[0m \u001b[0;34m\u001b[0m\u001b[0m\n\u001b[1;32m    115\u001b[0m \u001b[0;34m\u001b[0m\u001b[0m\n",
            "\u001b[0;32m/usr/local/lib/python3.7/dist-packages/google/colab/drive.py\u001b[0m in \u001b[0;36m_mount\u001b[0;34m(mountpoint, force_remount, timeout_ms, use_metadata_server, ephemeral)\u001b[0m\n\u001b[1;32m    134\u001b[0m   \u001b[0;32mif\u001b[0m \u001b[0mephemeral\u001b[0m\u001b[0;34m:\u001b[0m\u001b[0;34m\u001b[0m\u001b[0;34m\u001b[0m\u001b[0m\n\u001b[1;32m    135\u001b[0m     _message.blocking_request(\n\u001b[0;32m--> 136\u001b[0;31m         'request_auth', request={'authType': 'dfs_ephemeral'}, timeout_sec=None)\n\u001b[0m\u001b[1;32m    137\u001b[0m \u001b[0;34m\u001b[0m\u001b[0m\n\u001b[1;32m    138\u001b[0m   \u001b[0mmountpoint\u001b[0m \u001b[0;34m=\u001b[0m \u001b[0m_os\u001b[0m\u001b[0;34m.\u001b[0m\u001b[0mpath\u001b[0m\u001b[0;34m.\u001b[0m\u001b[0mexpanduser\u001b[0m\u001b[0;34m(\u001b[0m\u001b[0mmountpoint\u001b[0m\u001b[0;34m)\u001b[0m\u001b[0;34m\u001b[0m\u001b[0;34m\u001b[0m\u001b[0m\n",
            "\u001b[0;32m/usr/local/lib/python3.7/dist-packages/google/colab/_message.py\u001b[0m in \u001b[0;36mblocking_request\u001b[0;34m(request_type, request, timeout_sec, parent)\u001b[0m\n\u001b[1;32m    173\u001b[0m   request_id = send_request(\n\u001b[1;32m    174\u001b[0m       request_type, request, parent=parent, expect_reply=True)\n\u001b[0;32m--> 175\u001b[0;31m   \u001b[0;32mreturn\u001b[0m \u001b[0mread_reply_from_input\u001b[0m\u001b[0;34m(\u001b[0m\u001b[0mrequest_id\u001b[0m\u001b[0;34m,\u001b[0m \u001b[0mtimeout_sec\u001b[0m\u001b[0;34m)\u001b[0m\u001b[0;34m\u001b[0m\u001b[0;34m\u001b[0m\u001b[0m\n\u001b[0m",
            "\u001b[0;32m/usr/local/lib/python3.7/dist-packages/google/colab/_message.py\u001b[0m in \u001b[0;36mread_reply_from_input\u001b[0;34m(message_id, timeout_sec)\u001b[0m\n\u001b[1;32m    104\u001b[0m         reply.get('colab_msg_id') == message_id):\n\u001b[1;32m    105\u001b[0m       \u001b[0;32mif\u001b[0m \u001b[0;34m'error'\u001b[0m \u001b[0;32min\u001b[0m \u001b[0mreply\u001b[0m\u001b[0;34m:\u001b[0m\u001b[0;34m\u001b[0m\u001b[0;34m\u001b[0m\u001b[0m\n\u001b[0;32m--> 106\u001b[0;31m         \u001b[0;32mraise\u001b[0m \u001b[0mMessageError\u001b[0m\u001b[0;34m(\u001b[0m\u001b[0mreply\u001b[0m\u001b[0;34m[\u001b[0m\u001b[0;34m'error'\u001b[0m\u001b[0;34m]\u001b[0m\u001b[0;34m)\u001b[0m\u001b[0;34m\u001b[0m\u001b[0;34m\u001b[0m\u001b[0m\n\u001b[0m\u001b[1;32m    107\u001b[0m       \u001b[0;32mreturn\u001b[0m \u001b[0mreply\u001b[0m\u001b[0;34m.\u001b[0m\u001b[0mget\u001b[0m\u001b[0;34m(\u001b[0m\u001b[0;34m'data'\u001b[0m\u001b[0;34m,\u001b[0m \u001b[0;32mNone\u001b[0m\u001b[0;34m)\u001b[0m\u001b[0;34m\u001b[0m\u001b[0;34m\u001b[0m\u001b[0m\n\u001b[1;32m    108\u001b[0m \u001b[0;34m\u001b[0m\u001b[0m\n",
            "\u001b[0;31mMessageError\u001b[0m: Error: credential propagation was unsuccessful"
          ]
        }
      ]
    },
    {
      "cell_type": "markdown",
      "metadata": {
        "id": "JbLZX8UA9Spe"
      },
      "source": [
        "## **Lighting tip #1**"
      ]
    },
    {
      "cell_type": "markdown",
      "metadata": {
        "id": "QliE0qnf9Spf"
      },
      "source": [
        "The Jupyter Notebook has **two different keyboard input modes**. \n",
        "- Edit mode - allows you to type code or text into a cell and is indicated by a green cell border.\n",
        "- Command mode - binds the keyboard to notebook level commands and is indicated by a grey cell border with a blue left margin.\n",
        "\n",
        "To check shortcut keys, type \"short...\" quickly in the command mode. (press ESC to exit from the Edit mode; you should see your blinking cursor disappear and the cell border color changed from \"green\" to \"blue.\")\n",
        "\n",
        "**Let's try pressing \"L\" in command mode**  \n",
        "\n",
        "- First, double click this cell. You will be able to edit the markdown\n",
        "- Hit \"ESC\" to change from edit mode to command mode\n",
        "- Then, press \"L\"\n",
        "- You should see that the line number will appear/disappear\n",
        "\n",
        "To get out of the cell, just run the cell by:\n",
        "- CTRL+Enter (run the cell) or \n",
        "- SHIFT+Enter (run the cell and move to the next cell)"
      ]
    },
    {
      "cell_type": "markdown",
      "metadata": {
        "id": "bYQhNbaj9Spf"
      },
      "source": [
        "# Matplotlib"
      ]
    },
    {
      "cell_type": "markdown",
      "metadata": {
        "id": "7JVK9RX29Spg"
      },
      "source": [
        "## Part 1: `Matplotlib` basics\n",
        "\n",
        "Most of the examples shown here come from `Matplotlib` tutorials (https://matplotlib.org/stable/tutorials/index.html)\n"
      ]
    },
    {
      "cell_type": "code",
      "metadata": {
        "id": "hFaFfWIE9Spg"
      },
      "source": [
        "fig, ax = plt.subplots()  # Create a figure containing a single axes.\n",
        "ax.plot([1, 2, 3, 4], [1, 4, 2, 3])  # Plot some data on the axes."
      ],
      "execution_count": null,
      "outputs": []
    },
    {
      "cell_type": "markdown",
      "metadata": {
        "id": "HRhxHVvm9Sph"
      },
      "source": [
        "Another way to do this is using x and y variables."
      ]
    },
    {
      "cell_type": "code",
      "metadata": {
        "id": "DGov1Uu49Sph"
      },
      "source": [
        "x = [1, 2, 3, 4] # Create a variable x\n",
        "y = [1, 4, 2, 3] # Creat a variable y\n",
        "\n",
        "fig, ax = plt.subplots()  # Create a figure containing a single axes.\n",
        "ax.plot(x, y)  # Plot some data on the axes."
      ],
      "execution_count": null,
      "outputs": []
    },
    {
      "cell_type": "markdown",
      "metadata": {
        "id": "MP0rOiuf9Sph"
      },
      "source": [
        "There are two ways to plot data using matplotlib:\n",
        "--\n",
        "The object-oriented interface (OO-type) and the pyplot interface (pyplot-type)"
      ]
    },
    {
      "cell_type": "markdown",
      "metadata": {
        "id": "IzKY85qf9Spi"
      },
      "source": [
        "## First type: Object-oriented style (my preferred choice)  \n",
        "Explicitly create figures and axes, and call methods on them (the \"object-oriented (OO) style\")."
      ]
    },
    {
      "cell_type": "code",
      "metadata": {
        "id": "9TfpMyM29Spi"
      },
      "source": [
        "x = np.linspace(0, 2, 100)\n",
        "\n",
        "# Note that even in the OO-style, we use `.pyplot.figure` to create the figure.\n",
        "fig, ax = plt.subplots()  # Create a figure and an axes.\n",
        "ax.plot(x, x, label='linear')  # Plot some data on the axes.\n",
        "ax.plot(x, x**2, label='quadratic')  # Plot more data on the axes...\n",
        "ax.plot(x, x**3, label='cubic')  # ... and some more.\n",
        "ax.set_xlabel('x label')  # Add an x-label to the axes.\n",
        "ax.set_ylabel('y label')  # Add a y-label to the axes.\n",
        "ax.set_title(\"Simple Plot\")  # Add a title to the axes.\n",
        "ax.legend()  # Add a legend."
      ],
      "execution_count": null,
      "outputs": []
    },
    {
      "cell_type": "markdown",
      "metadata": {
        "id": "g4ASx42U9Spi"
      },
      "source": [
        "## Second type: Pyplot style  \n",
        "Rely on pyplot to automatically create and manage the figures and axes, and use pyplot functions for plotting."
      ]
    },
    {
      "cell_type": "code",
      "metadata": {
        "id": "DPHjOx8w9Spj"
      },
      "source": [
        "x = np.linspace(0, 2, 100)\n",
        "\n",
        "plt.plot(x, x, label='linear')  # Plot some data on the (implicit) axes.\n",
        "plt.plot(x, x**2, label='quadratic')  # etc.\n",
        "plt.plot(x, x**3, label='cubic')\n",
        "plt.xlabel('x label')\n",
        "plt.ylabel('y label')\n",
        "plt.title(\"Simple Plot\")\n",
        "plt.legend()"
      ],
      "execution_count": null,
      "outputs": []
    },
    {
      "cell_type": "markdown",
      "metadata": {
        "id": "TlmG4SRt9Spj"
      },
      "source": [
        "1.1 Figure\n",
        "--\n",
        "The whole figure. The figure keeps track of all the child Axes, a smattering of 'special' artists (titles, figure legends, etc), and the canvas. (Don't worry too much about the canvas, it is crucial as it is the object that actually does the drawing to get you your plot, but as the user it is more-or-less invisible to you). A figure can contain any number of Axes, but will typically have at least one.\n",
        "\n",
        "The easiest way to create a new figure is with pyplot:"
      ]
    },
    {
      "cell_type": "code",
      "metadata": {
        "id": "ggGjdclM9Spk"
      },
      "source": [
        "fig = plt.figure()  # an empty figure with no Axes"
      ],
      "execution_count": null,
      "outputs": []
    },
    {
      "cell_type": "code",
      "metadata": {
        "id": "X5230XjP9Spk"
      },
      "source": [
        "fig, ax = plt.subplots()  # a figure with a single Axes"
      ],
      "execution_count": null,
      "outputs": []
    },
    {
      "cell_type": "code",
      "metadata": {
        "id": "fWhJNYxm9Spk"
      },
      "source": [
        "fig, (ax0,ax1) = plt.subplots(1,2)  # a figure with two Axes"
      ],
      "execution_count": null,
      "outputs": []
    },
    {
      "cell_type": "code",
      "metadata": {
        "id": "ZRGcWhAp9Spl"
      },
      "source": [
        "fig, axs = plt.subplots(2, 2)  # a figure with a 2x2 grid of Axes"
      ],
      "execution_count": null,
      "outputs": []
    },
    {
      "cell_type": "markdown",
      "metadata": {
        "id": "1od9vJAO9Spl"
      },
      "source": [
        "To adjust your figure size, add \"figsize=(L,H)\" into your plt.subplots()  \n",
        "&nbsp;&nbsp;&nbsp;&nbsp;&nbsp;&nbsp;where L = horizontal length  \n",
        "&nbsp;&nbsp;&nbsp;&nbsp;&nbsp;&nbsp;&nbsp;&nbsp;&nbsp;&nbsp;and H = vertical height"
      ]
    },
    {
      "cell_type": "code",
      "metadata": {
        "id": "BXXtThZH9Spl"
      },
      "source": [
        "fig, axs = plt.subplots(2, 2,figsize=(8,6))  # using figsize=(,) to adjust you figure size"
      ],
      "execution_count": null,
      "outputs": []
    },
    {
      "cell_type": "markdown",
      "metadata": {
        "id": "RXmAZ5jX9Spm"
      },
      "source": [
        "1.1.1 Axes\n",
        "---\n",
        "When you create multiple subplots, each subplot is considered as an axes (axes is NOT the same as axis). You can access to each axes by indicating the axes number. Generally, if you use \"axs\" as a holder on the line you creat a figure. The first axes can be accessed by calling \"axs[0]\".\n",
        "\n",
        "Note: Indexing in python always starts with zero (0)."
      ]
    },
    {
      "cell_type": "markdown",
      "metadata": {
        "id": "gBZETfCP9Spm"
      },
      "source": [
        "1.1.1.1 Plotting data -- Accessing the axes\n",
        "--"
      ]
    },
    {
      "cell_type": "markdown",
      "metadata": {
        "id": "LUgkA86U9Spm"
      },
      "source": [
        "Let's try plotting x and y variables on the first axes in the 1x2 subplot grid:"
      ]
    },
    {
      "cell_type": "code",
      "metadata": {
        "id": "3yXLm4x_9Spm"
      },
      "source": [
        "x = [1, 2, 3, 4] # Create a variable x\n",
        "y = [1, 4, 2, 3] # Creat a variable y\n",
        "\n",
        "fig, axs = plt.subplots(1,2)  # a figure with a 2x2 grid of Axes\n",
        "# fig, axs = plt.subplots(nrows=1,ncols=2) ## This is another way to specify number of columns and rows\n",
        "ax.plot(x,y)"
      ],
      "execution_count": null,
      "outputs": []
    },
    {
      "cell_type": "code",
      "metadata": {
        "id": "2hV1xGZA9Spm"
      },
      "source": [
        "x = [1, 2, 3, 4] # Create a variable x\n",
        "y = [1, 4, 2, 3] # Creat a variable y\n",
        "\n",
        "fig, axs = plt.subplots(1,2)  # a figure with a 2x2 grid of Axes\n",
        "# fig, axs = plt.subplots(nrows=1,ncols=2) ## This is another way to specify number of columns and rows\n",
        "axs[0].plot(x,y)"
      ],
      "execution_count": null,
      "outputs": []
    },
    {
      "cell_type": "markdown",
      "metadata": {
        "id": "eE-fpvot9Spn"
      },
      "source": [
        "Let's try plotting x and y variables on the first axes in the 2x2 subplot grid:"
      ]
    },
    {
      "cell_type": "code",
      "metadata": {
        "id": "gS78eeqv9Spn"
      },
      "source": [
        "x = [1, 2, 3, 4] # Create a variable x\n",
        "y = [1, 4, 2, 3] # Creat a variable y\n",
        "\n",
        "fig, axs = plt.subplots(nrows=2,ncols=2)  # a figure with a 2x2 grid of Axes\n",
        "axs[0].plot(x,y)"
      ],
      "execution_count": null,
      "outputs": []
    },
    {
      "cell_type": "markdown",
      "metadata": {
        "id": "qxHdW2UO9Spn"
      },
      "source": [
        "Getting an error message?!  \n",
        "\n",
        "No worries. Now, you just need to indicate the coordinate of the axes you wanted to plot the data on. See an example below to plot the data on the top-left axis by indicating \"axs[0,0]\" where the first number is ROW and the second number is COLUMN."
      ]
    },
    {
      "cell_type": "code",
      "metadata": {
        "id": "COIG3uif9Spn"
      },
      "source": [
        "x = [1, 2, 3, 4] # Create a variable xิ\n",
        "y = [1, 4, 2, 3] # Creat a variable y\n",
        "\n",
        "fig, axs = plt.subplots(nrows=2,ncols=2)  # a figure with a 2x2 grid of Axes\n",
        "axs[0,0].plot(x,y)"
      ],
      "execution_count": null,
      "outputs": []
    },
    {
      "cell_type": "markdown",
      "metadata": {
        "id": "4U8MtE3o9Spo"
      },
      "source": [
        "Or using \"ProPlot\" (my personal preference)\n",
        "--\n",
        "\n",
        "ProPlot is a wrapper of matplotlibs that will make your code cleaner. (But there are still some limitations that we need to code with matplotlib commands)"
      ]
    },
    {
      "cell_type": "code",
      "metadata": {
        "id": "qZGbPxJY9Spo"
      },
      "source": [
        "x = [1, 2, 3, 4] # Create a variable xิ\n",
        "y = [1, 4, 2, 3] # Creat a variable y\n",
        "\n",
        "fig, axs = plot.subplots(nrows=2,ncols=2)  # a figure with a 2x2 grid of Axes\n",
        "axs[0].plot(x,y) #Now you can call axs[0] from the 2x2 subplot grid instead of axs[0,0]\n",
        "axs[1].plot(y,x) #The number will count from left to right first, then start on the next row from the left again."
      ],
      "execution_count": null,
      "outputs": []
    },
    {
      "cell_type": "markdown",
      "metadata": {
        "id": "2atWDyV39Spo"
      },
      "source": [
        "# Import files using Pandas"
      ]
    },
    {
      "cell_type": "markdown",
      "metadata": {
        "id": "KIpJhTYK9Spp"
      },
      "source": [
        "## 1. Import CSV files\n",
        "(similar approaches are also used for excel spreasheets)\n",
        "### Using Tierney and Tingley (2015) Global Core-top TEX86 as an example\n",
        "Data source:https://www.nature.com/articles/sdata201529#Sec10\n",
        "\n",
        "### Let's try to plot TEX86 vs latitude"
      ]
    },
    {
      "cell_type": "markdown",
      "metadata": {
        "id": "CwaMSpj99Spp"
      },
      "source": [
        "#### 1.1 First, import the data into Pandas dataframe"
      ]
    },
    {
      "cell_type": "code",
      "metadata": {
        "scrolled": false,
        "id": "luKp2eIn9Spp"
      },
      "source": [
        "import pandas as pd\n",
        "\n",
        "filepath = \"G:\\\\Shared drives\\\\Zhang Lab\\\\Presentations\\\\Knowledge sharing\\\\Python Data Visualization\\\\files for workshop\\\\\"\n",
        "filename = \"TEXdatabase_v1.csv\"\n",
        "\n",
        "\n",
        "#skiprows command is used to skep the first line \n",
        "#(try to run the code without skip rows)\n",
        "tex_df = pd.read_csv(filepath+filename,skiprows=1) \n",
        "\n",
        "tex_df"
      ],
      "execution_count": null,
      "outputs": []
    },
    {
      "cell_type": "markdown",
      "metadata": {
        "id": "-B6VmV-Y9Spp"
      },
      "source": [
        "#### 1.2 Create variables from selected columns"
      ]
    },
    {
      "cell_type": "code",
      "metadata": {
        "id": "dwn521gK9Spp"
      },
      "source": [
        "tex86 = tex_df.tex86\n",
        "lat = tex_df.latitude\n",
        "woa09_sst = tex_df.WOA09_SST"
      ],
      "execution_count": null,
      "outputs": []
    },
    {
      "cell_type": "markdown",
      "metadata": {
        "id": "be6knrzi9Spq"
      },
      "source": [
        "#### Lighting tip #2\n",
        "\n",
        "There are 2 ways that you can grab a column from pandas dataframe:\n",
        "- 1) The first method is using square bracket ([]). Using the example from the cell above, to get the \"tex86\" column in the a variable name \"tex86\", we can write the code as follow:  \n",
        "    - tex86 = tex_df['tex86']  \n",
        "    Note: What you do we see here:\n",
        "        - tex86 on the left-hand side is the variable that will take values/array from the right\n",
        "        - tex_df is the dataframe that contains data from the imported data file\n",
        "        - ['tex86'] is to tell pandas that you want to grab a column name 'tex86' in the dataframe\n",
        "- 2) The second method is what I used in the cell above. Instead of using square bracket, you can use \".\" to tell pandas that you wanted to grab a column name \"tex_86\". Please be noted that this method can be used if our column names do not have space in their names."
      ]
    },
    {
      "cell_type": "markdown",
      "metadata": {
        "id": "_iAG5a929Spq"
      },
      "source": [
        "#### Lighting tip #3\n",
        "\n",
        "Your dataframe has too many columns, and you don't want to scroll the table to find what you are looking for. What can you do?\n",
        "Pandas has a command called \"columns\". You can print the list of all column names from you dataframe as shown in the cell below. Remember that now our dataframe name is \"tex_df\". \"tex_df.columns\" will list all column headers. "
      ]
    },
    {
      "cell_type": "code",
      "metadata": {
        "id": "PU59idoL9Spq"
      },
      "source": [
        "tex_df.columns"
      ],
      "execution_count": null,
      "outputs": []
    },
    {
      "cell_type": "markdown",
      "metadata": {
        "id": "EggGgDcB9Spq"
      },
      "source": [
        "#### 1.4 Plotting scatter plots of SST and TEX86 versus latitudes"
      ]
    },
    {
      "cell_type": "code",
      "metadata": {
        "id": "L4QUU8Dt9Spq"
      },
      "source": [
        "#create a figure with 1x2 subplots (axes)\n",
        "fig, axs = plot.subplots(ncols=2, sharey=False)\n",
        "\n",
        "#format all axes in the figure by using axs without specified the axes number\n",
        "axs.format(\n",
        "    suptitle='TEX86 and WOA09_SST versus Latitude'\n",
        ")\n",
        "\n",
        "\n",
        "\n",
        "ax = axs[0]\n",
        "ax.scatter(lat,tex86)\n",
        "\n",
        "ax = axs[1]\n",
        "ax.scatter(lat,woa09_sst)\n",
        "\n",
        "plot.show()"
      ],
      "execution_count": null,
      "outputs": []
    },
    {
      "cell_type": "markdown",
      "metadata": {
        "id": "I9ezvxZF9Spr"
      },
      "source": [
        "#### 1.4.1 Changing plotting parameters\n",
        "\n",
        "Let's change the color of the data:\n",
        "- change SST data to be red\n",
        "- add border line of the marker"
      ]
    },
    {
      "cell_type": "code",
      "metadata": {
        "id": "omoKL8x49Spr"
      },
      "source": [
        "#create a figure with 1x2 subplots (axes)\n",
        "fig, axs = plot.subplots(ncols=2, sharey=False)\n",
        "\n",
        "#format all axes in the figure by using axs without specified the axes number\n",
        "axs.format(\n",
        "    suptitle='TEX86 and WOA09_SST versus Latitude'\n",
        ")\n",
        "\n",
        "\n",
        "\n",
        "ax = axs[0]\n",
        "ax.scatter(lat,tex86)\n",
        "\n",
        "ax = axs[1]\n",
        "ax.scatter(lat,woa09_sst,c='r',edgecolor='k')\n",
        "\n",
        "plot.show()"
      ],
      "execution_count": null,
      "outputs": []
    },
    {
      "cell_type": "markdown",
      "metadata": {
        "id": "Lu3thIVr9Spr"
      },
      "source": [
        "#### Lighting tip #4: Don't know what color to be used or don't know what is the name of each color\n",
        "\n",
        "1) Google \"color name python matplotlib\" or \"color name proplot python\"  \n",
        "2) print the color list  \n",
        "    - fig, axs = plot.show_colors()  "
      ]
    },
    {
      "cell_type": "code",
      "metadata": {
        "scrolled": true,
        "id": "QoFutady9Spr"
      },
      "source": [
        "fig, axs = plot.show_colors()"
      ],
      "execution_count": null,
      "outputs": []
    },
    {
      "cell_type": "markdown",
      "metadata": {
        "id": "nOLC8-g19Spr"
      },
      "source": [
        "#### 1.5 Let's try plotting TEX86 vs SST and change the color datapoint using colormap"
      ]
    },
    {
      "cell_type": "code",
      "metadata": {
        "id": "Dzn0NEuG9Sps"
      },
      "source": [
        "fig, axs = plot.subplots()\n",
        "axs.format(\n",
        "    suptitle=\"Core-top TEX86 vs SST\"\n",
        ")\n",
        "\n",
        "h = axs[0].scatter(tex_df.tex86,tex_df.WOA09_SST,edgecolor='k',color=tex_df.latitude)\n",
        "axs[0].colorbar(h) #add a colorbar for the axs[0]"
      ],
      "execution_count": null,
      "outputs": []
    },
    {
      "cell_type": "markdown",
      "metadata": {
        "id": "L60XrJ3q9Sps"
      },
      "source": [
        "#### Lighting tip #4: Wanted to change the colormap but don't know what options are available?\n",
        "\n",
        "1) Google \"colormap python matplotlib\" or \"color cycle proplot python\"  \n",
        "2) print the color list   \n",
        "    - fig, axs = plot.show_cycles() OR\n",
        "    - fig, axs = plot.show_cmaps()"
      ]
    },
    {
      "cell_type": "code",
      "metadata": {
        "id": "Synwn21G9Sps"
      },
      "source": [
        "fig, axs = plot.show_cycles()"
      ],
      "execution_count": null,
      "outputs": []
    },
    {
      "cell_type": "code",
      "metadata": {
        "id": "qeEiR-mU9Sps"
      },
      "source": [
        "fig, axs = plot.show_cmaps()"
      ],
      "execution_count": null,
      "outputs": []
    },
    {
      "cell_type": "markdown",
      "metadata": {
        "id": "V6Zv6Ddh9Sps"
      },
      "source": [
        "#### 1.5.1 Changing plotting parameters\n",
        "\n",
        "- using 'Balance' cmaps\n",
        "- change the scale of the colormap from -80 to 100 --> -90 to 90"
      ]
    },
    {
      "cell_type": "code",
      "metadata": {
        "id": "0uetT5JY9Spt"
      },
      "source": [
        "fig, axs = plot.subplots()\n",
        "axs.format(\n",
        "    suptitle=\"Core-top TEX86 vs SST\"\n",
        ")\n",
        "\n",
        "h = axs[0].scatter(tex_df.tex86,tex_df.WOA09_SST,edgecolor='k',color=tex_df.latitude,\n",
        "                   cmap='Balance',vmin=-90,vmax=90)\n",
        "axs[0].colorbar(h,values=(-90,90)) #add a colorbar for the axs[0]"
      ],
      "execution_count": null,
      "outputs": []
    }
  ]
}